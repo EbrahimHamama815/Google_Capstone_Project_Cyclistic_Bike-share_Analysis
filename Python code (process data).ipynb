{
 "cells": [
  {
   "cell_type": "code",
   "execution_count": 1,
   "metadata": {},
   "outputs": [],
   "source": [
    "import numpy as np\n",
    "import pandas as pd\n",
    "import os, shutil"
   ]
  },
  {
   "cell_type": "code",
   "execution_count": 7,
   "metadata": {},
   "outputs": [
    {
     "data": {
      "text/plain": [
       "'lol'"
      ]
     },
     "execution_count": 7,
     "metadata": {},
     "output_type": "execute_result"
    }
   ],
   "source": [
    "x = [\"lol\",\"haha\",\"lmao\"]\n",
    "pd.Series(x)[0]"
   ]
  },
  {
   "cell_type": "code",
   "execution_count": 8,
   "metadata": {},
   "outputs": [
    {
     "name": "stdout",
     "output_type": "stream",
     "text": [
      "<class 'pandas.core.frame.DataFrame'>\n",
      "RangeIndex: 84776 entries, 0 to 84775\n",
      "Data columns (total 13 columns):\n",
      " #   Column              Non-Null Count  Dtype  \n",
      "---  ------              --------------  -----  \n",
      " 0   ride_id             84776 non-null  object \n",
      " 1   rideable_type       84776 non-null  object \n",
      " 2   started_at          84776 non-null  object \n",
      " 3   ended_at            84776 non-null  object \n",
      " 4   start_station_name  84776 non-null  object \n",
      " 5   start_station_id    84776 non-null  int64  \n",
      " 6   end_station_name    84677 non-null  object \n",
      " 7   end_station_id      84677 non-null  float64\n",
      " 8   start_lat           84776 non-null  float64\n",
      " 9   start_lng           84776 non-null  float64\n",
      " 10  end_lat             84677 non-null  float64\n",
      " 11  end_lng             84677 non-null  float64\n",
      " 12  member_casual       84776 non-null  object \n",
      "dtypes: float64(5), int64(1), object(7)\n",
      "memory usage: 41.2 MB\n"
     ]
    }
   ],
   "source": [
    "full_data = pd.read_csv(\"G:/courses/google data analytics/capstone project/Dataset/202004-divvy-tripdata.csv\")\n",
    "full_data.info(memory_usage=\"deep\")"
   ]
  },
  {
   "cell_type": "code",
   "execution_count": 9,
   "metadata": {},
   "outputs": [
    {
     "data": {
      "text/plain": [
       "ride_id               84776\n",
       "rideable_type             1\n",
       "started_at            81200\n",
       "ended_at              81029\n",
       "start_station_name      602\n",
       "start_station_id        602\n",
       "end_station_name        600\n",
       "end_station_id          600\n",
       "start_lat               515\n",
       "start_lng               481\n",
       "end_lat                 514\n",
       "end_lng                 485\n",
       "member_casual             2\n",
       "dtype: int64"
      ]
     },
     "execution_count": 9,
     "metadata": {},
     "output_type": "execute_result"
    }
   ],
   "source": [
    "full_data.nunique()"
   ]
  },
  {
   "cell_type": "code",
   "execution_count": 4,
   "metadata": {},
   "outputs": [
    {
     "data": {
      "text/html": [
       "<div>\n",
       "<style scoped>\n",
       "    .dataframe tbody tr th:only-of-type {\n",
       "        vertical-align: middle;\n",
       "    }\n",
       "\n",
       "    .dataframe tbody tr th {\n",
       "        vertical-align: top;\n",
       "    }\n",
       "\n",
       "    .dataframe thead th {\n",
       "        text-align: right;\n",
       "    }\n",
       "</style>\n",
       "<table border=\"1\" class=\"dataframe\">\n",
       "  <thead>\n",
       "    <tr style=\"text-align: right;\">\n",
       "      <th></th>\n",
       "      <th>start_station_id</th>\n",
       "      <th>end_station_id</th>\n",
       "      <th>start_lat</th>\n",
       "      <th>start_lng</th>\n",
       "      <th>end_lat</th>\n",
       "      <th>end_lng</th>\n",
       "    </tr>\n",
       "  </thead>\n",
       "  <tbody>\n",
       "    <tr>\n",
       "      <th>count</th>\n",
       "      <td>84776.000000</td>\n",
       "      <td>84677.000000</td>\n",
       "      <td>84776.000000</td>\n",
       "      <td>84776.000000</td>\n",
       "      <td>84677.000000</td>\n",
       "      <td>84677.000000</td>\n",
       "    </tr>\n",
       "    <tr>\n",
       "      <th>mean</th>\n",
       "      <td>236.703418</td>\n",
       "      <td>236.978176</td>\n",
       "      <td>41.908156</td>\n",
       "      <td>-87.649319</td>\n",
       "      <td>41.908194</td>\n",
       "      <td>-87.649601</td>\n",
       "    </tr>\n",
       "    <tr>\n",
       "      <th>std</th>\n",
       "      <td>160.288883</td>\n",
       "      <td>160.957429</td>\n",
       "      <td>0.043313</td>\n",
       "      <td>0.025170</td>\n",
       "      <td>0.043313</td>\n",
       "      <td>0.025243</td>\n",
       "    </tr>\n",
       "    <tr>\n",
       "      <th>min</th>\n",
       "      <td>2.000000</td>\n",
       "      <td>2.000000</td>\n",
       "      <td>41.736600</td>\n",
       "      <td>-87.774700</td>\n",
       "      <td>41.736600</td>\n",
       "      <td>-87.774700</td>\n",
       "    </tr>\n",
       "    <tr>\n",
       "      <th>25%</th>\n",
       "      <td>113.000000</td>\n",
       "      <td>113.000000</td>\n",
       "      <td>41.884600</td>\n",
       "      <td>-87.664400</td>\n",
       "      <td>41.884600</td>\n",
       "      <td>-87.665100</td>\n",
       "    </tr>\n",
       "    <tr>\n",
       "      <th>50%</th>\n",
       "      <td>211.000000</td>\n",
       "      <td>212.000000</td>\n",
       "      <td>41.903000</td>\n",
       "      <td>-87.646300</td>\n",
       "      <td>41.903000</td>\n",
       "      <td>-87.646600</td>\n",
       "    </tr>\n",
       "    <tr>\n",
       "      <th>75%</th>\n",
       "      <td>324.000000</td>\n",
       "      <td>323.000000</td>\n",
       "      <td>41.932600</td>\n",
       "      <td>-87.631700</td>\n",
       "      <td>41.932600</td>\n",
       "      <td>-87.631700</td>\n",
       "    </tr>\n",
       "    <tr>\n",
       "      <th>max</th>\n",
       "      <td>673.000000</td>\n",
       "      <td>673.000000</td>\n",
       "      <td>42.064900</td>\n",
       "      <td>-87.549400</td>\n",
       "      <td>42.064900</td>\n",
       "      <td>-87.549400</td>\n",
       "    </tr>\n",
       "  </tbody>\n",
       "</table>\n",
       "</div>"
      ],
      "text/plain": [
       "       start_station_id  end_station_id     start_lat     start_lng  \\\n",
       "count      84776.000000    84677.000000  84776.000000  84776.000000   \n",
       "mean         236.703418      236.978176     41.908156    -87.649319   \n",
       "std          160.288883      160.957429      0.043313      0.025170   \n",
       "min            2.000000        2.000000     41.736600    -87.774700   \n",
       "25%          113.000000      113.000000     41.884600    -87.664400   \n",
       "50%          211.000000      212.000000     41.903000    -87.646300   \n",
       "75%          324.000000      323.000000     41.932600    -87.631700   \n",
       "max          673.000000      673.000000     42.064900    -87.549400   \n",
       "\n",
       "            end_lat       end_lng  \n",
       "count  84677.000000  84677.000000  \n",
       "mean      41.908194    -87.649601  \n",
       "std        0.043313      0.025243  \n",
       "min       41.736600    -87.774700  \n",
       "25%       41.884600    -87.665100  \n",
       "50%       41.903000    -87.646600  \n",
       "75%       41.932600    -87.631700  \n",
       "max       42.064900    -87.549400  "
      ]
     },
     "execution_count": 4,
     "metadata": {},
     "output_type": "execute_result"
    }
   ],
   "source": [
    "full_data.describe()"
   ]
  },
  {
   "cell_type": "code",
   "execution_count": 10,
   "metadata": {},
   "outputs": [
    {
     "name": "stdout",
     "output_type": "stream",
     "text": [
      "<class 'pandas.core.frame.DataFrame'>\n",
      "RangeIndex: 84776 entries, 0 to 84775\n",
      "Data columns (total 13 columns):\n",
      " #   Column              Non-Null Count  Dtype         \n",
      "---  ------              --------------  -----         \n",
      " 0   ride_id             84776 non-null  object        \n",
      " 1   rideable_type       84776 non-null  category      \n",
      " 2   started_at          84776 non-null  datetime64[ns]\n",
      " 3   ended_at            84776 non-null  datetime64[ns]\n",
      " 4   start_station_name  84776 non-null  category      \n",
      " 5   start_station_id    84776 non-null  category      \n",
      " 6   end_station_name    84677 non-null  category      \n",
      " 7   end_station_id      84677 non-null  category      \n",
      " 8   start_lat           84776 non-null  float64       \n",
      " 9   start_lng           84776 non-null  float64       \n",
      " 10  end_lat             84677 non-null  float64       \n",
      " 11  end_lng             84677 non-null  float64       \n",
      " 12  member_casual       84776 non-null  category      \n",
      "dtypes: category(6), datetime64[ns](2), float64(4), object(1)\n",
      "memory usage: 10.2 MB\n"
     ]
    }
   ],
   "source": [
    "full_data = pd.read_csv(\"G:/courses/google data analytics/capstone project/Dataset/202004-divvy-tripdata.csv\",\n",
    "                        parse_dates=[\"started_at\",\"ended_at\"],\n",
    "                        dtype={\"rideable_type\":\"category\",\n",
    "                               \"start_station_id\":\"category\",\n",
    "                               \"end_station_id\":\"category\",\n",
    "                               \"start_station_name\":\"category\",\n",
    "                               \"end_station_name\":\"category\",\n",
    "                               \"member_casual\":\"category\"})\n",
    "full_data.info(memory_usage=\"deep\")"
   ]
  },
  {
   "cell_type": "code",
   "execution_count": 11,
   "metadata": {},
   "outputs": [],
   "source": [
    "# combining all files into one and resetting index and modifying data types for better memory optimization\n",
    "\n",
    "\n",
    "path = \"G:/courses/google data analytics/capstone project/Dataset/raw data\"\n",
    "\n",
    "datasheets = os.listdir(path)           #list of the file names in the directory\n",
    "\n",
    "for file in datasheets:\n",
    "    x = pd.read_csv(f\"{path}/{file}\",\n",
    "                        skiprows=0,     #skip header row for each file\n",
    "                        parse_dates=[\"started_at\",\"ended_at\"])      #format date\n",
    "    full_data = pd.concat(objs=[full_data,x])       #stacking files on each itration\n",
    "\n",
    "full_data = full_data.reset_index(drop=True).astype({\"rideable_type\":\"category\",\n",
    "                               \"start_station_id\":\"category\",\n",
    "                               \"end_station_id\":\"category\",\n",
    "                               \"start_station_name\":\"category\",\n",
    "                               \"end_station_name\":\"category\",\n",
    "                               \"member_casual\":\"category\"})         #final data types conversion for better memory optimization\n",
    "\n",
    "# tried convering data types inside read_csv but it seems that concat output sometimes mess up the category data type"
   ]
  },
  {
   "cell_type": "code",
   "execution_count": 12,
   "metadata": {},
   "outputs": [
    {
     "name": "stdout",
     "output_type": "stream",
     "text": [
      "<class 'pandas.core.frame.DataFrame'>\n",
      "RangeIndex: 3489748 entries, 0 to 3489747\n",
      "Data columns (total 13 columns):\n",
      " #   Column              Dtype         \n",
      "---  ------              -----         \n",
      " 0   ride_id             object        \n",
      " 1   rideable_type       category      \n",
      " 2   started_at          datetime64[ns]\n",
      " 3   ended_at            datetime64[ns]\n",
      " 4   start_station_name  category      \n",
      " 5   start_station_id    category      \n",
      " 6   end_station_name    category      \n",
      " 7   end_station_id      category      \n",
      " 8   start_lat           float64       \n",
      " 9   start_lng           float64       \n",
      " 10  end_lat             float64       \n",
      " 11  end_lng             float64       \n",
      " 12  member_casual       category      \n",
      "dtypes: category(6), datetime64[ns](2), float64(4), object(1)\n",
      "memory usage: 409.8 MB\n"
     ]
    }
   ],
   "source": [
    "full_data.info(memory_usage=\"deep\")"
   ]
  },
  {
   "cell_type": "markdown",
   "metadata": {},
   "source": [
    "#### addressing duplicates and null ride_id"
   ]
  },
  {
   "cell_type": "code",
   "execution_count": 8,
   "metadata": {},
   "outputs": [
    {
     "data": {
      "text/plain": [
       "np.int64(209)"
      ]
     },
     "execution_count": 8,
     "metadata": {},
     "output_type": "execute_result"
    }
   ],
   "source": [
    "full_data[\"ride_id\"].count() - full_data[\"ride_id\"].nunique()"
   ]
  },
  {
   "cell_type": "code",
   "execution_count": null,
   "metadata": {},
   "outputs": [],
   "source": [
    "full_data.drop_duplicates(subset=[\"ride_id\"],keep=\"first\",inplace=True)"
   ]
  },
  {
   "cell_type": "code",
   "execution_count": null,
   "metadata": {},
   "outputs": [
    {
     "data": {
      "text/html": [
       "<div>\n",
       "<style scoped>\n",
       "    .dataframe tbody tr th:only-of-type {\n",
       "        vertical-align: middle;\n",
       "    }\n",
       "\n",
       "    .dataframe tbody tr th {\n",
       "        vertical-align: top;\n",
       "    }\n",
       "\n",
       "    .dataframe thead th {\n",
       "        text-align: right;\n",
       "    }\n",
       "</style>\n",
       "<table border=\"1\" class=\"dataframe\">\n",
       "  <thead>\n",
       "    <tr style=\"text-align: right;\">\n",
       "      <th></th>\n",
       "      <th>ride_id</th>\n",
       "      <th>rideable_type</th>\n",
       "      <th>started_at</th>\n",
       "      <th>ended_at</th>\n",
       "      <th>start_station_name</th>\n",
       "      <th>start_station_id</th>\n",
       "      <th>end_station_name</th>\n",
       "      <th>end_station_id</th>\n",
       "      <th>start_lat</th>\n",
       "      <th>start_lng</th>\n",
       "      <th>end_lat</th>\n",
       "      <th>end_lng</th>\n",
       "      <th>member_casual</th>\n",
       "    </tr>\n",
       "  </thead>\n",
       "  <tbody>\n",
       "  </tbody>\n",
       "</table>\n",
       "</div>"
      ],
      "text/plain": [
       "Empty DataFrame\n",
       "Columns: [ride_id, rideable_type, started_at, ended_at, start_station_name, start_station_id, end_station_name, end_station_id, start_lat, start_lng, end_lat, end_lng, member_casual]\n",
       "Index: []"
      ]
     },
     "execution_count": 13,
     "metadata": {},
     "output_type": "execute_result"
    }
   ],
   "source": [
    "full_data[full_data[\"ride_id\"].isna()] #there was no noll ride ids"
   ]
  },
  {
   "cell_type": "markdown",
   "metadata": {},
   "source": [
    "### Seperating ride data and geo spatial data"
   ]
  },
  {
   "cell_type": "code",
   "execution_count": null,
   "metadata": {},
   "outputs": [
    {
     "name": "stdout",
     "output_type": "stream",
     "text": [
      "<class 'pandas.core.frame.DataFrame'>\n",
      "RangeIndex: 3489748 entries, 0 to 3489747\n",
      "Data columns (total 9 columns):\n",
      " #   Column              Dtype   \n",
      "---  ------              -----   \n",
      " 0   ride_id             object  \n",
      " 1   start_station_name  category\n",
      " 2   start_station_id    category\n",
      " 3   start_lat           float64 \n",
      " 4   start_lng           float64 \n",
      " 5   end_station_name    category\n",
      " 6   end_station_id      category\n",
      " 7   end_lat             float64 \n",
      " 8   end_lng             float64 \n",
      "dtypes: category(4), float64(4), object(1)\n",
      "memory usage: 349.8 MB\n"
     ]
    }
   ],
   "source": [
    "geo_data = full_data[[\"ride_id\",\"start_station_name\",\"start_station_id\",\"start_lat\",\"start_lng\",\"end_station_name\",\"end_station_id\",\"end_lat\",\"end_lng\"]]\n",
    "# some station ids are integers and some are not so we convert them to string first then to category for better memory optimization\n",
    "geo_data = geo_data.astype({\"start_station_id\":\"str\",\"end_station_id\":\"str\"}).astype({\"start_station_id\":\"category\",\"end_station_id\":\"category\"}) \n",
    "geo_data.info(memory_usage=\"deep\")\n"
   ]
  },
  {
   "cell_type": "code",
   "execution_count": 27,
   "metadata": {},
   "outputs": [
    {
     "data": {
      "text/plain": [
       "['125', 'KA1503000044']\n",
       "Categories (1260, object): ['100', '101', '102', '103', ..., 'WL-008', 'WL-011', 'WL-012', 'nan']"
      ]
     },
     "execution_count": 27,
     "metadata": {},
     "output_type": "execute_result"
    }
   ],
   "source": [
    "geo_data[geo_data[\"start_station_name\"] == \"Rush St & Hubbard St\"][\"start_station_id\"].unique() #some stations has 2 different ids for some reason"
   ]
  },
  {
   "cell_type": "code",
   "execution_count": 16,
   "metadata": {},
   "outputs": [],
   "source": [
    "lookup_table = geo_data.dropna(subset=[\"start_station_name\"]).drop_duplicates(subset=[\"start_station_name\"],keep=\"first\")"
   ]
  },
  {
   "cell_type": "code",
   "execution_count": null,
   "metadata": {},
   "outputs": [],
   "source": []
  },
  {
   "cell_type": "code",
   "execution_count": null,
   "metadata": {},
   "outputs": [],
   "source": []
  },
  {
   "cell_type": "code",
   "execution_count": 12,
   "metadata": {},
   "outputs": [
    {
     "data": {
      "text/html": [
       "<div>\n",
       "<style scoped>\n",
       "    .dataframe tbody tr th:only-of-type {\n",
       "        vertical-align: middle;\n",
       "    }\n",
       "\n",
       "    .dataframe tbody tr th {\n",
       "        vertical-align: top;\n",
       "    }\n",
       "\n",
       "    .dataframe thead th {\n",
       "        text-align: right;\n",
       "    }\n",
       "</style>\n",
       "<table border=\"1\" class=\"dataframe\">\n",
       "  <thead>\n",
       "    <tr style=\"text-align: right;\">\n",
       "      <th></th>\n",
       "      <th>ride_id</th>\n",
       "      <th>rideable_type</th>\n",
       "      <th>started_at</th>\n",
       "      <th>ended_at</th>\n",
       "      <th>member_casual</th>\n",
       "    </tr>\n",
       "  </thead>\n",
       "  <tbody>\n",
       "    <tr>\n",
       "      <th>0</th>\n",
       "      <td>A847FADBBC638E45</td>\n",
       "      <td>docked_bike</td>\n",
       "      <td>2020-04-26 17:45:14</td>\n",
       "      <td>2020-04-26 18:12:03</td>\n",
       "      <td>member</td>\n",
       "    </tr>\n",
       "    <tr>\n",
       "      <th>1</th>\n",
       "      <td>5405B80E996FF60D</td>\n",
       "      <td>docked_bike</td>\n",
       "      <td>2020-04-17 17:08:54</td>\n",
       "      <td>2020-04-17 17:17:03</td>\n",
       "      <td>member</td>\n",
       "    </tr>\n",
       "    <tr>\n",
       "      <th>2</th>\n",
       "      <td>5DD24A79A4E006F4</td>\n",
       "      <td>docked_bike</td>\n",
       "      <td>2020-04-01 17:54:13</td>\n",
       "      <td>2020-04-01 18:08:36</td>\n",
       "      <td>member</td>\n",
       "    </tr>\n",
       "    <tr>\n",
       "      <th>3</th>\n",
       "      <td>2A59BBDF5CDBA725</td>\n",
       "      <td>docked_bike</td>\n",
       "      <td>2020-04-07 12:50:19</td>\n",
       "      <td>2020-04-07 13:02:31</td>\n",
       "      <td>member</td>\n",
       "    </tr>\n",
       "    <tr>\n",
       "      <th>4</th>\n",
       "      <td>27AD306C119C6158</td>\n",
       "      <td>docked_bike</td>\n",
       "      <td>2020-04-18 10:22:59</td>\n",
       "      <td>2020-04-18 11:15:54</td>\n",
       "      <td>casual</td>\n",
       "    </tr>\n",
       "    <tr>\n",
       "      <th>...</th>\n",
       "      <td>...</td>\n",
       "      <td>...</td>\n",
       "      <td>...</td>\n",
       "      <td>...</td>\n",
       "      <td>...</td>\n",
       "    </tr>\n",
       "    <tr>\n",
       "      <th>3489743</th>\n",
       "      <td>9397BDD14798A1BA</td>\n",
       "      <td>docked_bike</td>\n",
       "      <td>2021-03-20 14:58:56</td>\n",
       "      <td>2021-03-20 17:22:47</td>\n",
       "      <td>casual</td>\n",
       "    </tr>\n",
       "    <tr>\n",
       "      <th>3489744</th>\n",
       "      <td>BBBEB8D51AAD40DA</td>\n",
       "      <td>classic_bike</td>\n",
       "      <td>2021-03-02 11:35:10</td>\n",
       "      <td>2021-03-02 11:43:37</td>\n",
       "      <td>member</td>\n",
       "    </tr>\n",
       "    <tr>\n",
       "      <th>3489745</th>\n",
       "      <td>637FF754DA0BD9E1</td>\n",
       "      <td>classic_bike</td>\n",
       "      <td>2021-03-09 11:07:36</td>\n",
       "      <td>2021-03-09 11:49:11</td>\n",
       "      <td>member</td>\n",
       "    </tr>\n",
       "    <tr>\n",
       "      <th>3489746</th>\n",
       "      <td>F8F43A0B978A7A35</td>\n",
       "      <td>classic_bike</td>\n",
       "      <td>2021-03-01 18:11:57</td>\n",
       "      <td>2021-03-01 18:18:37</td>\n",
       "      <td>member</td>\n",
       "    </tr>\n",
       "    <tr>\n",
       "      <th>3489747</th>\n",
       "      <td>3AE64EA5BF43CF72</td>\n",
       "      <td>electric_bike</td>\n",
       "      <td>2021-03-26 17:58:14</td>\n",
       "      <td>2021-03-26 18:06:43</td>\n",
       "      <td>member</td>\n",
       "    </tr>\n",
       "  </tbody>\n",
       "</table>\n",
       "<p>3489539 rows × 5 columns</p>\n",
       "</div>"
      ],
      "text/plain": [
       "                  ride_id  rideable_type          started_at  \\\n",
       "0        A847FADBBC638E45    docked_bike 2020-04-26 17:45:14   \n",
       "1        5405B80E996FF60D    docked_bike 2020-04-17 17:08:54   \n",
       "2        5DD24A79A4E006F4    docked_bike 2020-04-01 17:54:13   \n",
       "3        2A59BBDF5CDBA725    docked_bike 2020-04-07 12:50:19   \n",
       "4        27AD306C119C6158    docked_bike 2020-04-18 10:22:59   \n",
       "...                   ...            ...                 ...   \n",
       "3489743  9397BDD14798A1BA    docked_bike 2021-03-20 14:58:56   \n",
       "3489744  BBBEB8D51AAD40DA   classic_bike 2021-03-02 11:35:10   \n",
       "3489745  637FF754DA0BD9E1   classic_bike 2021-03-09 11:07:36   \n",
       "3489746  F8F43A0B978A7A35   classic_bike 2021-03-01 18:11:57   \n",
       "3489747  3AE64EA5BF43CF72  electric_bike 2021-03-26 17:58:14   \n",
       "\n",
       "                   ended_at member_casual  \n",
       "0       2020-04-26 18:12:03        member  \n",
       "1       2020-04-17 17:17:03        member  \n",
       "2       2020-04-01 18:08:36        member  \n",
       "3       2020-04-07 13:02:31        member  \n",
       "4       2020-04-18 11:15:54        casual  \n",
       "...                     ...           ...  \n",
       "3489743 2021-03-20 17:22:47        casual  \n",
       "3489744 2021-03-02 11:43:37        member  \n",
       "3489745 2021-03-09 11:49:11        member  \n",
       "3489746 2021-03-01 18:18:37        member  \n",
       "3489747 2021-03-26 18:06:43        member  \n",
       "\n",
       "[3489539 rows x 5 columns]"
      ]
     },
     "execution_count": 12,
     "metadata": {},
     "output_type": "execute_result"
    }
   ],
   "source": [
    "ride_data = full_data[[\"ride_id\",\"rideable_type\",\"started_at\",\"ended_at\",\"member_casual\"]]\n",
    "ride_data"
   ]
  },
  {
   "cell_type": "code",
   "execution_count": 13,
   "metadata": {},
   "outputs": [
    {
     "data": {
      "text/html": [
       "<div>\n",
       "<style scoped>\n",
       "    .dataframe tbody tr th:only-of-type {\n",
       "        vertical-align: middle;\n",
       "    }\n",
       "\n",
       "    .dataframe tbody tr th {\n",
       "        vertical-align: top;\n",
       "    }\n",
       "\n",
       "    .dataframe thead th {\n",
       "        text-align: right;\n",
       "    }\n",
       "</style>\n",
       "<table border=\"1\" class=\"dataframe\">\n",
       "  <thead>\n",
       "    <tr style=\"text-align: right;\">\n",
       "      <th></th>\n",
       "      <th>ride_id</th>\n",
       "      <th>rideable_type</th>\n",
       "      <th>started_at</th>\n",
       "      <th>ended_at</th>\n",
       "      <th>member_casual</th>\n",
       "      <th>ride_length</th>\n",
       "    </tr>\n",
       "  </thead>\n",
       "  <tbody>\n",
       "    <tr>\n",
       "      <th>2422</th>\n",
       "      <td>7C1E92200AEFF70E</td>\n",
       "      <td>docked_bike</td>\n",
       "      <td>2020-04-27 17:20:30</td>\n",
       "      <td>2020-04-27 17:20:18</td>\n",
       "      <td>member</td>\n",
       "      <td>-0.200000</td>\n",
       "    </tr>\n",
       "    <tr>\n",
       "      <th>2504</th>\n",
       "      <td>671BB1F73F4CD303</td>\n",
       "      <td>docked_bike</td>\n",
       "      <td>2020-04-20 16:51:18</td>\n",
       "      <td>2020-04-20 16:51:05</td>\n",
       "      <td>casual</td>\n",
       "      <td>-0.216667</td>\n",
       "    </tr>\n",
       "    <tr>\n",
       "      <th>3136</th>\n",
       "      <td>502B972C6B1FCAE6</td>\n",
       "      <td>docked_bike</td>\n",
       "      <td>2020-04-12 19:09:54</td>\n",
       "      <td>2020-04-12 19:09:40</td>\n",
       "      <td>member</td>\n",
       "      <td>-0.233333</td>\n",
       "    </tr>\n",
       "    <tr>\n",
       "      <th>3542</th>\n",
       "      <td>68E70FDF06F0A439</td>\n",
       "      <td>docked_bike</td>\n",
       "      <td>2020-04-29 17:37:11</td>\n",
       "      <td>2020-04-29 17:37:07</td>\n",
       "      <td>member</td>\n",
       "      <td>-0.066667</td>\n",
       "    </tr>\n",
       "    <tr>\n",
       "      <th>8212</th>\n",
       "      <td>6EB323BCC83A9D1D</td>\n",
       "      <td>docked_bike</td>\n",
       "      <td>2020-04-05 15:46:12</td>\n",
       "      <td>2020-04-05 15:46:11</td>\n",
       "      <td>member</td>\n",
       "      <td>-0.016667</td>\n",
       "    </tr>\n",
       "    <tr>\n",
       "      <th>...</th>\n",
       "      <td>...</td>\n",
       "      <td>...</td>\n",
       "      <td>...</td>\n",
       "      <td>...</td>\n",
       "      <td>...</td>\n",
       "      <td>...</td>\n",
       "    </tr>\n",
       "    <tr>\n",
       "      <th>3114153</th>\n",
       "      <td>7BD7B9F52607DAB3</td>\n",
       "      <td>electric_bike</td>\n",
       "      <td>2020-12-15 11:53:44</td>\n",
       "      <td>2020-11-25 14:50:00</td>\n",
       "      <td>member</td>\n",
       "      <td>-28623.733333</td>\n",
       "    </tr>\n",
       "    <tr>\n",
       "      <th>3121388</th>\n",
       "      <td>FC1EFEF4475D7F56</td>\n",
       "      <td>classic_bike</td>\n",
       "      <td>2021-01-09 15:42:45</td>\n",
       "      <td>2021-01-09 15:41:02</td>\n",
       "      <td>member</td>\n",
       "      <td>-1.716667</td>\n",
       "    </tr>\n",
       "    <tr>\n",
       "      <th>3150548</th>\n",
       "      <td>B1235D38EB2F8A9E</td>\n",
       "      <td>electric_bike</td>\n",
       "      <td>2021-01-06 18:33:12</td>\n",
       "      <td>2021-01-06 18:31:07</td>\n",
       "      <td>member</td>\n",
       "      <td>-2.083333</td>\n",
       "    </tr>\n",
       "    <tr>\n",
       "      <th>3300569</th>\n",
       "      <td>F79335E3A77A57B5</td>\n",
       "      <td>electric_bike</td>\n",
       "      <td>2021-03-29 15:41:21</td>\n",
       "      <td>2021-03-29 15:41:20</td>\n",
       "      <td>member</td>\n",
       "      <td>-0.016667</td>\n",
       "    </tr>\n",
       "    <tr>\n",
       "      <th>3382082</th>\n",
       "      <td>5D2797A8FFA71B49</td>\n",
       "      <td>classic_bike</td>\n",
       "      <td>2021-03-13 18:02:58</td>\n",
       "      <td>2021-03-13 18:02:57</td>\n",
       "      <td>casual</td>\n",
       "      <td>-0.016667</td>\n",
       "    </tr>\n",
       "  </tbody>\n",
       "</table>\n",
       "<p>10343 rows × 6 columns</p>\n",
       "</div>"
      ],
      "text/plain": [
       "                  ride_id  rideable_type          started_at  \\\n",
       "2422     7C1E92200AEFF70E    docked_bike 2020-04-27 17:20:30   \n",
       "2504     671BB1F73F4CD303    docked_bike 2020-04-20 16:51:18   \n",
       "3136     502B972C6B1FCAE6    docked_bike 2020-04-12 19:09:54   \n",
       "3542     68E70FDF06F0A439    docked_bike 2020-04-29 17:37:11   \n",
       "8212     6EB323BCC83A9D1D    docked_bike 2020-04-05 15:46:12   \n",
       "...                   ...            ...                 ...   \n",
       "3114153  7BD7B9F52607DAB3  electric_bike 2020-12-15 11:53:44   \n",
       "3121388  FC1EFEF4475D7F56   classic_bike 2021-01-09 15:42:45   \n",
       "3150548  B1235D38EB2F8A9E  electric_bike 2021-01-06 18:33:12   \n",
       "3300569  F79335E3A77A57B5  electric_bike 2021-03-29 15:41:21   \n",
       "3382082  5D2797A8FFA71B49   classic_bike 2021-03-13 18:02:58   \n",
       "\n",
       "                   ended_at member_casual   ride_length  \n",
       "2422    2020-04-27 17:20:18        member     -0.200000  \n",
       "2504    2020-04-20 16:51:05        casual     -0.216667  \n",
       "3136    2020-04-12 19:09:40        member     -0.233333  \n",
       "3542    2020-04-29 17:37:07        member     -0.066667  \n",
       "8212    2020-04-05 15:46:11        member     -0.016667  \n",
       "...                     ...           ...           ...  \n",
       "3114153 2020-11-25 14:50:00        member -28623.733333  \n",
       "3121388 2021-01-09 15:41:02        member     -1.716667  \n",
       "3150548 2021-01-06 18:31:07        member     -2.083333  \n",
       "3300569 2021-03-29 15:41:20        member     -0.016667  \n",
       "3382082 2021-03-13 18:02:57        casual     -0.016667  \n",
       "\n",
       "[10343 rows x 6 columns]"
      ]
     },
     "execution_count": 13,
     "metadata": {},
     "output_type": "execute_result"
    }
   ],
   "source": [
    "# calculating ride length and converting it to float (in mins) for better usage and finding negative lengths\n",
    "ride_data = ride_data.assign(ride_length = (ride_data[\"ended_at\"]-ride_data[\"started_at\"]).dt.total_seconds()/60)\n",
    "ride_data[ride_data[\"ride_length\"] < 0]"
   ]
  },
  {
   "cell_type": "code",
   "execution_count": 14,
   "metadata": {},
   "outputs": [],
   "source": [
    "# converting negative times to positive (cause the start and end time stamps were probably swapped)\n",
    "ride_data[\"ride_length\"] = ride_data[\"ride_length\"].abs()"
   ]
  },
  {
   "cell_type": "code",
   "execution_count": 15,
   "metadata": {},
   "outputs": [
    {
     "data": {
      "text/plain": [
       "count    3.489539e+06\n",
       "mean     2.925508e+01\n",
       "std      3.212687e+02\n",
       "min      0.000000e+00\n",
       "25%      7.883333e+00\n",
       "50%      1.451667e+01\n",
       "75%      2.663333e+01\n",
       "max      5.872003e+04\n",
       "Name: ride_length, dtype: float64"
      ]
     },
     "execution_count": 15,
     "metadata": {},
     "output_type": "execute_result"
    }
   ],
   "source": [
    "# before moving along we take a look at the statistics of ride length, it looks like there are some outliers\n",
    "ride_data[\"ride_length\"].describe()"
   ]
  },
  {
   "cell_type": "code",
   "execution_count": 16,
   "metadata": {},
   "outputs": [],
   "source": [
    "# assigning different buckets for ride length\n",
    "def conditional(x):\n",
    "    if x <= 10:\n",
    "        return \"less than 10 mins\"\n",
    "    elif x > 10 and x <= 30:\n",
    "        return \"between 10 and 30 mins\"\n",
    "    elif x > 30 and x <= 60:\n",
    "        return \"between 30 mins and 1 hour\"\n",
    "    elif x > 60 and x <= (60*24):\n",
    "        return \"between 1 hour and 24 hours\"\n",
    "    else:\n",
    "        return \"more than 24 hours\"\n",
    "    \n",
    "ride_data[\"ride_length_category\"] = ride_data[\"ride_length\"].apply(conditional)"
   ]
  },
  {
   "cell_type": "code",
   "execution_count": 17,
   "metadata": {},
   "outputs": [],
   "source": [
    "# adding week day name , and some final optimization\n",
    "ride_data[\"day_of_week\"] = ride_data[\"started_at\"].dt.day_name()\n",
    "ride_data = ride_data.astype({\"ride_length_category\":\"category\",\"day_of_week\":\"category\"})"
   ]
  },
  {
   "cell_type": "code",
   "execution_count": 18,
   "metadata": {},
   "outputs": [],
   "source": [
    "# ride_data.to_csv(\"G:/ride_data.csv\",index=False)\n",
    "# geo_data.to_csv(\"G:/geo_data.csv\",index=False)"
   ]
  }
 ],
 "metadata": {
  "kernelspec": {
   "display_name": "Python 3",
   "language": "python",
   "name": "python3"
  },
  "language_info": {
   "codemirror_mode": {
    "name": "ipython",
    "version": 3
   },
   "file_extension": ".py",
   "mimetype": "text/x-python",
   "name": "python",
   "nbconvert_exporter": "python",
   "pygments_lexer": "ipython3",
   "version": "3.13.0"
  }
 },
 "nbformat": 4,
 "nbformat_minor": 2
}
